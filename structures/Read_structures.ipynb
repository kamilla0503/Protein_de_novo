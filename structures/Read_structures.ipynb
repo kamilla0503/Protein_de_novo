{
 "cells": [
  {
   "cell_type": "code",
   "execution_count": 1,
   "metadata": {},
   "outputs": [
    {
     "name": "stderr",
     "output_type": "stream",
     "text": [
      "/home/kamilla/anaconda3/lib/python3.7/site-packages/htmd/versionwarnings.py:30: UserWarning: As of HTMD 1.16 the default number of threads HTMD spawns for calculations is set to 1. You can enable parallelism at your own risk using `config(njobs=-2)` in the beginning of your scripts. To disable this warning run once: `from htmd import _disableWarnings; _disableWarnings('1.16');`\n",
      "  UserWarning,\n",
      "/home/kamilla/anaconda3/lib/python3.7/site-packages/htmd/versionwarnings.py:38: UserWarning: As of HTMD 1.21 support for ACEMD v2 has stopped. Please use ACEMD3 instead as well as the corresponding equilibration and production protocols. To disable this warning run once: `from htmd import _disableWarnings; _disableWarnings('1.21');`\n",
      "  UserWarning,\n"
     ]
    },
    {
     "name": "stdout",
     "output_type": "stream",
     "text": [
      "\n",
      "Please cite HTMD: Doerr et al.(2016)JCTC,12,1845. https://dx.doi.org/10.1021/acs.jctc.6b00049\n",
      "\n",
      "HTMD Documentation at: https://www.htmd.org/docs/latest/\n",
      "\n"
     ]
    },
    {
     "name": "stderr",
     "output_type": "stream",
     "text": [
      "2020-10-09 14:13:09,873 - binstar - INFO - Using Anaconda API: https://api.anaconda.org\n"
     ]
    },
    {
     "name": "stdout",
     "output_type": "stream",
     "text": [
      "New stable HTMD version (1.22.9 python[3.7,<3.8.0a0,3.6,<3.7.0a0]) is available. You are currently on (1.22.5).There are several methods to update:    - Create a new conda env. using `conda create -n htmd1.22.9 htmd=1.22.9 -c acellera -c psi4 -c conda-forge`    - Create a brand new conda installation and run `conda install htmd -c acellera -c psi4 -c conda-forge`    - Run: `conda update htmd -c acellera -c psi4 -c conda-forge` (NOT RECOMMENDED)\n",
      "\n"
     ]
    }
   ],
   "source": [
    "from pathlib import Path\n",
    "\n",
    "from htmd.ui import *\n",
    "\n",
    "import matplotlib.pyplot as plt\n",
    "import random\n",
    "import numpy as np\n",
    "import pandas as pd\n",
    " \n",
    "#from scipy.optimize import curve_fit\n",
    " "
   ]
  },
  {
   "cell_type": "code",
   "execution_count": 19,
   "metadata": {},
   "outputs": [],
   "source": [
    "current_directiry =  Path().absolute()\n",
    "\n"
   ]
  },
  {
   "cell_type": "code",
   "execution_count": 48,
   "metadata": {
    "scrolled": true
   },
   "outputs": [
    {
     "name": "stdout",
     "output_type": "stream",
     "text": [
      "/home/kamilla/Protein_de_novo/structures/3D27.pdb\n",
      "/home/kamilla/Protein_de_novo/structures/3EXM.pdb\n",
      "/home/kamilla/Protein_de_novo/structures/3D05.pdb\n",
      "/home/kamilla/Protein_de_novo/structures/3D6J.pdb\n",
      "/home/kamilla/Protein_de_novo/structures/3FAD.pdb\n",
      "/home/kamilla/Protein_de_novo/structures/3D79.pdb\n",
      "/home/kamilla/Protein_de_novo/structures/3CJY.pdb\n",
      "/home/kamilla/Protein_de_novo/structures/3CJM.pdb\n",
      "/home/kamilla/Protein_de_novo/structures/3CNN.pdb\n",
      "/home/kamilla/Protein_de_novo/structures/3CSS.pdb\n",
      "/home/kamilla/Protein_de_novo/structures/3CT1.pdb\n",
      "/home/kamilla/Protein_de_novo/structures/3D00.pdb\n"
     ]
    },
    {
     "name": "stderr",
     "output_type": "stream",
     "text": [
      "2020-10-09 15:45:46,452 - moleculekit.molecule - WARNING - Alternative atom locations detected. Only altloc A was kept. If you prefer to keep all use the keepaltloc=\"all\" option when reading the file.\n",
      "2020-10-09 15:45:46,455 - moleculekit.molecule - INFO - Removed 10 atoms. 2124 atoms remaining in the molecule.\n",
      "2020-10-09 15:45:46,503 - moleculekit.molecule - INFO - Removed 100 atoms. 2024 atoms remaining in the molecule.\n"
     ]
    },
    {
     "name": "stdout",
     "output_type": "stream",
     "text": [
      "/home/kamilla/Protein_de_novo/structures/3D41.pdb\n"
     ]
    },
    {
     "name": "stderr",
     "output_type": "stream",
     "text": [
      "2020-10-09 15:45:54,402 - moleculekit.molecule - INFO - Removed 39 atoms. 1150 atoms remaining in the molecule.\n"
     ]
    },
    {
     "name": "stdout",
     "output_type": "stream",
     "text": [
      "/home/kamilla/Protein_de_novo/structures/3CMI.pdb\n"
     ]
    },
    {
     "name": "stderr",
     "output_type": "stream",
     "text": [
      "2020-10-09 15:45:57,020 - moleculekit.molecule - WARNING - Alternative atom locations detected. Only altloc A was kept. If you prefer to keep all use the keepaltloc=\"all\" option when reading the file.\n",
      "2020-10-09 15:45:57,022 - moleculekit.molecule - INFO - Removed 6 atoms. 1398 atoms remaining in the molecule.\n",
      "2020-10-09 15:45:57,050 - moleculekit.molecule - INFO - Removed 102 atoms. 1296 atoms remaining in the molecule.\n"
     ]
    },
    {
     "name": "stdout",
     "output_type": "stream",
     "text": [
      "/home/kamilla/Protein_de_novo/structures/3CSR.pdb\n"
     ]
    },
    {
     "name": "stderr",
     "output_type": "stream",
     "text": [
      "2020-10-09 15:46:00,084 - moleculekit.molecule - WARNING - Alternative atom locations detected. Only altloc A was kept. If you prefer to keep all use the keepaltloc=\"all\" option when reading the file.\n",
      "2020-10-09 15:46:00,085 - moleculekit.molecule - INFO - Removed 14 atoms. 2169 atoms remaining in the molecule.\n",
      "2020-10-09 15:46:00,112 - moleculekit.molecule - INFO - Removed 176 atoms. 1993 atoms remaining in the molecule.\n"
     ]
    },
    {
     "name": "stdout",
     "output_type": "stream",
     "text": [
      "/home/kamilla/Protein_de_novo/structures/3CR0.pdb\n"
     ]
    },
    {
     "name": "stderr",
     "output_type": "stream",
     "text": [
      "2020-10-09 15:46:07,856 - moleculekit.molecule - INFO - Removed 149 atoms. 1816 atoms remaining in the molecule.\n"
     ]
    },
    {
     "name": "stdout",
     "output_type": "stream",
     "text": [
      "/home/kamilla/Protein_de_novo/structures/3EZL.pdb\n"
     ]
    },
    {
     "name": "stderr",
     "output_type": "stream",
     "text": [
      "2020-10-09 15:46:14,651 - moleculekit.molecule - INFO - Removed 175 atoms. 2227 atoms remaining in the molecule.\n"
     ]
    },
    {
     "name": "stdout",
     "output_type": "stream",
     "text": [
      "/home/kamilla/Protein_de_novo/structures/3EZV.pdb\n"
     ]
    },
    {
     "name": "stderr",
     "output_type": "stream",
     "text": [
      "2020-10-09 15:46:24,260 - moleculekit.molecule - INFO - Removed 178 atoms. 1760 atoms remaining in the molecule.\n"
     ]
    },
    {
     "name": "stdout",
     "output_type": "stream",
     "text": [
      "/home/kamilla/Protein_de_novo/structures/3CRT.pdb\n"
     ]
    },
    {
     "name": "stderr",
     "output_type": "stream",
     "text": [
      "2020-10-09 15:46:30,720 - moleculekit.molecule - INFO - Removed 338 atoms. 1890 atoms remaining in the molecule.\n"
     ]
    },
    {
     "name": "stdout",
     "output_type": "stream",
     "text": [
      "/home/kamilla/Protein_de_novo/structures/3CPG.pdb\n"
     ]
    },
    {
     "name": "stderr",
     "output_type": "stream",
     "text": [
      "2020-10-09 15:46:38,088 - moleculekit.molecule - INFO - Removed 133 atoms. 1824 atoms remaining in the molecule.\n"
     ]
    },
    {
     "name": "stdout",
     "output_type": "stream",
     "text": [
      "/home/kamilla/Protein_de_novo/structures/3CNO.pdb\n"
     ]
    },
    {
     "name": "stderr",
     "output_type": "stream",
     "text": [
      "2020-10-09 15:46:44,418 - moleculekit.molecule - WARNING - Alternative atom locations detected. Only altloc A was kept. If you prefer to keep all use the keepaltloc=\"all\" option when reading the file.\n",
      "2020-10-09 15:46:44,420 - moleculekit.molecule - INFO - Removed 23 atoms. 2350 atoms remaining in the molecule.\n",
      "2020-10-09 15:46:44,450 - moleculekit.molecule - INFO - Removed 326 atoms. 2024 atoms remaining in the molecule.\n"
     ]
    },
    {
     "name": "stdout",
     "output_type": "stream",
     "text": [
      "/home/kamilla/Protein_de_novo/structures/3D4F.pdb\n"
     ]
    },
    {
     "name": "stderr",
     "output_type": "stream",
     "text": [
      "2020-10-09 15:46:52,253 - moleculekit.molecule - INFO - Removed 135 atoms. 1422 atoms remaining in the molecule.\n"
     ]
    },
    {
     "name": "stdout",
     "output_type": "stream",
     "text": [
      "/home/kamilla/Protein_de_novo/structures/3D3H.pdb\n"
     ]
    },
    {
     "name": "stderr",
     "output_type": "stream",
     "text": [
      "2020-10-09 15:46:56,460 - moleculekit.molecule - WARNING - Alternative atom locations detected. Only altloc A was kept. If you prefer to keep all use the keepaltloc=\"all\" option when reading the file.\n",
      "2020-10-09 15:46:56,465 - moleculekit.molecule - INFO - Removed 72 atoms. 1542 atoms remaining in the molecule.\n",
      "2020-10-09 15:46:56,490 - moleculekit.molecule - INFO - Removed 253 atoms. 1289 atoms remaining in the molecule.\n"
     ]
    },
    {
     "name": "stdout",
     "output_type": "stream",
     "text": [
      "/home/kamilla/Protein_de_novo/structures/3F9L.pdb\n"
     ]
    },
    {
     "name": "stderr",
     "output_type": "stream",
     "text": [
      "2020-10-09 15:47:00,316 - moleculekit.molecule - WARNING - Alternative atom locations detected. Only altloc A was kept. If you prefer to keep all use the keepaltloc=\"all\" option when reading the file.\n",
      "2020-10-09 15:47:00,318 - moleculekit.molecule - INFO - Removed 13 atoms. 2339 atoms remaining in the molecule.\n",
      "2020-10-09 15:47:00,358 - moleculekit.molecule - INFO - Removed 378 atoms. 1961 atoms remaining in the molecule.\n"
     ]
    },
    {
     "name": "stdout",
     "output_type": "stream",
     "text": [
      "/home/kamilla/Protein_de_novo/structures/3CTK.pdb\n"
     ]
    },
    {
     "name": "stderr",
     "output_type": "stream",
     "text": [
      "2020-10-09 15:47:08,290 - moleculekit.molecule - INFO - Removed 128 atoms. 2026 atoms remaining in the molecule.\n"
     ]
    },
    {
     "name": "stdout",
     "output_type": "stream",
     "text": [
      "/home/kamilla/Protein_de_novo/structures/3CMZ.pdb\n"
     ]
    },
    {
     "name": "stderr",
     "output_type": "stream",
     "text": [
      "2020-10-09 15:47:16,122 - moleculekit.molecule - WARNING - Alternative atom locations detected. Only altloc A was kept. If you prefer to keep all use the keepaltloc=\"all\" option when reading the file.\n",
      "2020-10-09 15:47:16,124 - moleculekit.molecule - INFO - Removed 173 atoms. 2463 atoms remaining in the molecule.\n",
      "2020-10-09 15:47:16,157 - moleculekit.molecule - INFO - Removed 371 atoms. 2092 atoms remaining in the molecule.\n"
     ]
    },
    {
     "name": "stdout",
     "output_type": "stream",
     "text": [
      "/home/kamilla/Protein_de_novo/structures/3CHV.pdb\n"
     ]
    },
    {
     "name": "stderr",
     "output_type": "stream",
     "text": [
      "2020-10-09 15:47:24,744 - moleculekit.molecule - WARNING - Alternative atom locations detected. Only altloc A was kept. If you prefer to keep all use the keepaltloc=\"all\" option when reading the file.\n",
      "2020-10-09 15:47:24,745 - moleculekit.molecule - INFO - Removed 26 atoms. 1234 atoms remaining in the molecule.\n",
      "2020-10-09 15:47:24,762 - moleculekit.molecule - INFO - Removed 85 atoms. 1149 atoms remaining in the molecule.\n"
     ]
    },
    {
     "name": "stdout",
     "output_type": "stream",
     "text": [
      "/home/kamilla/Protein_de_novo/structures/3CLJ.pdb\n"
     ]
    },
    {
     "name": "stderr",
     "output_type": "stream",
     "text": [
      "2020-10-09 15:47:27,372 - moleculekit.molecule - WARNING - Alternative atom locations detected. Only altloc A was kept. If you prefer to keep all use the keepaltloc=\"all\" option when reading the file.\n",
      "2020-10-09 15:47:27,373 - moleculekit.molecule - INFO - Removed 8 atoms. 2075 atoms remaining in the molecule.\n",
      "2020-10-09 15:47:27,400 - moleculekit.molecule - INFO - Removed 85 atoms. 1990 atoms remaining in the molecule.\n"
     ]
    },
    {
     "name": "stdout",
     "output_type": "stream",
     "text": [
      "/home/kamilla/Protein_de_novo/structures/3CQE.pdb\n"
     ]
    },
    {
     "name": "stderr",
     "output_type": "stream",
     "text": [
      "2020-10-09 15:47:34,855 - moleculekit.molecule - WARNING - Alternative atom locations detected. Only altloc A was kept. If you prefer to keep all use the keepaltloc=\"all\" option when reading the file.\n",
      "2020-10-09 15:47:34,856 - moleculekit.molecule - INFO - Removed 93 atoms. 1336 atoms remaining in the molecule.\n",
      "2020-10-09 15:47:34,877 - moleculekit.molecule - INFO - Removed 191 atoms. 1145 atoms remaining in the molecule.\n"
     ]
    },
    {
     "name": "stdout",
     "output_type": "stream",
     "text": [
      "/home/kamilla/Protein_de_novo/structures/3CJE.pdb\n"
     ]
    },
    {
     "name": "stderr",
     "output_type": "stream",
     "text": [
      "2020-10-09 15:47:37,917 - moleculekit.molecule - INFO - Removed 225 atoms. 2018 atoms remaining in the molecule.\n"
     ]
    },
    {
     "name": "stdout",
     "output_type": "stream",
     "text": [
      "/home/kamilla/Protein_de_novo/structures/3CS6.pdb\n"
     ]
    },
    {
     "name": "stderr",
     "output_type": "stream",
     "text": [
      "2020-10-09 15:47:45,867 - moleculekit.molecule - INFO - Removed 226 atoms. 1706 atoms remaining in the molecule.\n"
     ]
    },
    {
     "name": "stdout",
     "output_type": "stream",
     "text": [
      "/home/kamilla/Protein_de_novo/structures/3CLA.pdb\n"
     ]
    },
    {
     "name": "stderr",
     "output_type": "stream",
     "text": [
      "2020-10-09 15:47:51,428 - moleculekit.molecule - INFO - Removed 146 atoms. 1407 atoms remaining in the molecule.\n"
     ]
    },
    {
     "name": "stdout",
     "output_type": "stream",
     "text": [
      "/home/kamilla/Protein_de_novo/structures/3CK2.pdb\n"
     ]
    },
    {
     "name": "stderr",
     "output_type": "stream",
     "text": [
      "2020-10-09 15:47:55,252 - moleculekit.molecule - INFO - Removed 69 atoms. 1478 atoms remaining in the molecule.\n"
     ]
    },
    {
     "name": "stdout",
     "output_type": "stream",
     "text": [
      "/home/kamilla/Protein_de_novo/structures/3CPM.pdb\n"
     ]
    },
    {
     "name": "stderr",
     "output_type": "stream",
     "text": [
      "2020-10-09 15:48:00,295 - moleculekit.molecule - WARNING - Alternative atom locations detected. Only altloc A was kept. If you prefer to keep all use the keepaltloc=\"all\" option when reading the file.\n",
      "2020-10-09 15:48:00,297 - moleculekit.molecule - INFO - Removed 39 atoms. 1593 atoms remaining in the molecule.\n",
      "2020-10-09 15:48:00,333 - moleculekit.molecule - INFO - Removed 196 atoms. 1397 atoms remaining in the molecule.\n"
     ]
    },
    {
     "name": "stdout",
     "output_type": "stream",
     "text": [
      "/home/kamilla/Protein_de_novo/structures/3COU.pdb\n"
     ]
    },
    {
     "name": "stderr",
     "output_type": "stream",
     "text": [
      "2020-10-09 15:48:04,371 - moleculekit.molecule - INFO - Removed 68 atoms. 2322 atoms remaining in the molecule.\n"
     ]
    },
    {
     "name": "stdout",
     "output_type": "stream",
     "text": [
      "/home/kamilla/Protein_de_novo/structures/3D62.pdb\n"
     ]
    },
    {
     "name": "stderr",
     "output_type": "stream",
     "text": [
      "2020-10-09 15:48:14,825 - moleculekit.molecule - WARNING - Alternative atom locations detected. Only altloc A was kept. If you prefer to keep all use the keepaltloc=\"all\" option when reading the file.\n",
      "2020-10-09 15:48:14,828 - moleculekit.molecule - INFO - Removed 57 atoms. 2013 atoms remaining in the molecule.\n",
      "2020-10-09 15:48:14,852 - moleculekit.molecule - INFO - Removed 204 atoms. 1809 atoms remaining in the molecule.\n"
     ]
    },
    {
     "name": "stdout",
     "output_type": "stream",
     "text": [
      "/home/kamilla/Protein_de_novo/structures/3CGX.pdb\n"
     ]
    },
    {
     "name": "stderr",
     "output_type": "stream",
     "text": [
      "2020-10-09 15:48:21,292 - moleculekit.molecule - WARNING - Alternative atom locations detected. Only altloc A was kept. If you prefer to keep all use the keepaltloc=\"all\" option when reading the file.\n",
      "2020-10-09 15:48:21,293 - moleculekit.molecule - INFO - Removed 10 atoms. 2675 atoms remaining in the molecule.\n",
      "2020-10-09 15:48:21,321 - moleculekit.molecule - INFO - Removed 351 atoms. 2324 atoms remaining in the molecule.\n"
     ]
    },
    {
     "name": "stdout",
     "output_type": "stream",
     "text": [
      "/home/kamilla/Protein_de_novo/structures/3CWE.pdb\n"
     ]
    },
    {
     "name": "stderr",
     "output_type": "stream",
     "text": [
      "2020-10-09 15:48:31,129 - moleculekit.molecule - INFO - Removed 67 atoms. 2058 atoms remaining in the molecule.\n"
     ]
    },
    {
     "name": "stdout",
     "output_type": "stream",
     "text": [
      "/home/kamilla/Protein_de_novo/structures/3D2I.pdb\n"
     ]
    },
    {
     "name": "stderr",
     "output_type": "stream",
     "text": [
      "2020-10-09 15:48:39,234 - moleculekit.molecule - WARNING - Alternative atom locations detected. Only altloc A was kept. If you prefer to keep all use the keepaltloc=\"all\" option when reading the file.\n",
      "2020-10-09 15:48:39,236 - moleculekit.molecule - INFO - Removed 17 atoms. 1280 atoms remaining in the molecule.\n",
      "2020-10-09 15:48:39,249 - moleculekit.molecule - INFO - Removed 147 atoms. 1133 atoms remaining in the molecule.\n"
     ]
    },
    {
     "name": "stdout",
     "output_type": "stream",
     "text": [
      "/home/kamilla/Protein_de_novo/structures/3CJN.pdb\n"
     ]
    },
    {
     "name": "stderr",
     "output_type": "stream",
     "text": [
      "2020-10-09 15:48:42,023 - moleculekit.molecule - WARNING - Alternative atom locations detected. Only altloc A was kept. If you prefer to keep all use the keepaltloc=\"all\" option when reading the file.\n",
      "2020-10-09 15:48:42,026 - moleculekit.molecule - INFO - Removed 30 atoms. 1429 atoms remaining in the molecule.\n",
      "2020-10-09 15:48:42,047 - moleculekit.molecule - INFO - Removed 167 atoms. 1262 atoms remaining in the molecule.\n"
     ]
    },
    {
     "name": "stdout",
     "output_type": "stream",
     "text": [
      "/home/kamilla/Protein_de_novo/structures/3CU3.pdb\n"
     ]
    },
    {
     "name": "stderr",
     "output_type": "stream",
     "text": [
      "2020-10-09 15:48:45,430 - moleculekit.molecule - WARNING - Alternative atom locations detected. Only altloc A was kept. If you prefer to keep all use the keepaltloc=\"all\" option when reading the file.\n",
      "2020-10-09 15:48:45,431 - moleculekit.molecule - INFO - Removed 11 atoms. 1945 atoms remaining in the molecule.\n",
      "2020-10-09 15:48:45,451 - moleculekit.molecule - INFO - Removed 310 atoms. 1635 atoms remaining in the molecule.\n"
     ]
    },
    {
     "name": "stdout",
     "output_type": "stream",
     "text": [
      "/home/kamilla/Protein_de_novo/structures/3D0B.pdb\n"
     ]
    },
    {
     "name": "stderr",
     "output_type": "stream",
     "text": [
      "2020-10-09 15:48:50,709 - moleculekit.molecule - WARNING - Alternative atom locations detected. Only altloc A was kept. If you prefer to keep all use the keepaltloc=\"all\" option when reading the file.\n",
      "2020-10-09 15:48:50,710 - moleculekit.molecule - INFO - Removed 51 atoms. 1869 atoms remaining in the molecule.\n",
      "2020-10-09 15:48:50,729 - moleculekit.molecule - INFO - Removed 244 atoms. 1625 atoms remaining in the molecule.\n"
     ]
    },
    {
     "name": "stdout",
     "output_type": "stream",
     "text": [
      "/home/kamilla/Protein_de_novo/structures/3D30.pdb\n"
     ]
    },
    {
     "name": "stderr",
     "output_type": "stream",
     "text": [
      "2020-10-09 15:48:55,993 - moleculekit.molecule - INFO - Removed 246 atoms. 2305 atoms remaining in the molecule.\n"
     ]
    },
    {
     "name": "stdout",
     "output_type": "stream",
     "text": [
      "/home/kamilla/Protein_de_novo/structures/3EYH.pdb\n"
     ]
    },
    {
     "name": "stderr",
     "output_type": "stream",
     "text": [
      "2020-10-09 15:49:05,754 - moleculekit.molecule - WARNING - Alternative atom locations detected. Only altloc A was kept. If you prefer to keep all use the keepaltloc=\"all\" option when reading the file.\n",
      "2020-10-09 15:49:05,757 - moleculekit.molecule - INFO - Removed 55 atoms. 1567 atoms remaining in the molecule.\n",
      "2020-10-09 15:49:05,780 - moleculekit.molecule - INFO - Removed 50 atoms. 1517 atoms remaining in the molecule.\n"
     ]
    },
    {
     "name": "stdout",
     "output_type": "stream",
     "text": [
      "/home/kamilla/Protein_de_novo/structures/3EY5.pdb\n"
     ]
    },
    {
     "name": "stderr",
     "output_type": "stream",
     "text": [
      "2020-10-09 15:49:09,559 - moleculekit.molecule - WARNING - Alternative atom locations detected. Only altloc A was kept. If you prefer to keep all use the keepaltloc=\"all\" option when reading the file.\n",
      "2020-10-09 15:49:09,560 - moleculekit.molecule - INFO - Removed 34 atoms. 2460 atoms remaining in the molecule.\n",
      "2020-10-09 15:49:09,588 - moleculekit.molecule - INFO - Removed 389 atoms. 2071 atoms remaining in the molecule.\n"
     ]
    },
    {
     "name": "stdout",
     "output_type": "stream",
     "text": [
      "/home/kamilla/Protein_de_novo/structures/3CRZ.pdb\n"
     ]
    },
    {
     "name": "stderr",
     "output_type": "stream",
     "text": [
      "2020-10-09 15:49:17,431 - moleculekit.molecule - WARNING - Alternative atom locations detected. Only altloc A was kept. If you prefer to keep all use the keepaltloc=\"all\" option when reading the file.\n",
      "2020-10-09 15:49:17,433 - moleculekit.molecule - INFO - Removed 67 atoms. 1924 atoms remaining in the molecule.\n",
      "2020-10-09 15:49:17,457 - moleculekit.molecule - INFO - Removed 411 atoms. 1513 atoms remaining in the molecule.\n"
     ]
    },
    {
     "name": "stdout",
     "output_type": "stream",
     "text": [
      "/home/kamilla/Protein_de_novo/structures/3D80.pdb\n"
     ]
    },
    {
     "name": "stderr",
     "output_type": "stream",
     "text": [
      "2020-10-09 15:49:22,208 - moleculekit.molecule - INFO - Removed 6 atoms. 1807 atoms remaining in the molecule.\n"
     ]
    },
    {
     "name": "stdout",
     "output_type": "stream",
     "text": [
      "/home/kamilla/Protein_de_novo/structures/3CNA.pdb\n"
     ]
    },
    {
     "name": "stderr",
     "output_type": "stream",
     "text": [
      "2020-10-09 15:49:28,912 - moleculekit.molecule - INFO - Removed 153 atoms. 1240 atoms remaining in the molecule.\n"
     ]
    },
    {
     "name": "stdout",
     "output_type": "stream",
     "text": [
      "/home/kamilla/Protein_de_novo/structures/3EXQ.pdb\n"
     ]
    },
    {
     "name": "stderr",
     "output_type": "stream",
     "text": [
      "2020-10-09 15:49:32,056 - moleculekit.molecule - INFO - Removed 143 atoms. 2095 atoms remaining in the molecule.\n"
     ]
    },
    {
     "name": "stdout",
     "output_type": "stream",
     "text": [
      "/home/kamilla/Protein_de_novo/structures/3D15.pdb\n"
     ]
    },
    {
     "name": "stderr",
     "output_type": "stream",
     "text": [
      "2020-10-09 15:49:39,945 - moleculekit.molecule - WARNING - Alternative atom locations detected. Only altloc A was kept. If you prefer to keep all use the keepaltloc=\"all\" option when reading the file.\n",
      "2020-10-09 15:49:39,946 - moleculekit.molecule - INFO - Removed 8 atoms. 1801 atoms remaining in the molecule.\n",
      "2020-10-09 15:49:39,969 - moleculekit.molecule - INFO - Removed 241 atoms. 1560 atoms remaining in the molecule.\n"
     ]
    },
    {
     "name": "stdout",
     "output_type": "stream",
     "text": [
      "/home/kamilla/Protein_de_novo/structures/3CKK.pdb\n"
     ]
    },
    {
     "name": "stderr",
     "output_type": "stream",
     "text": [
      "2020-10-09 15:49:44,884 - moleculekit.molecule - WARNING - Alternative atom locations detected. Only altloc A was kept. If you prefer to keep all use the keepaltloc=\"all\" option when reading the file.\n",
      "2020-10-09 15:49:44,886 - moleculekit.molecule - INFO - Removed 160 atoms. 1524 atoms remaining in the molecule.\n",
      "2020-10-09 15:49:44,908 - moleculekit.molecule - INFO - Removed 258 atoms. 1266 atoms remaining in the molecule.\n"
     ]
    },
    {
     "name": "stdout",
     "output_type": "stream",
     "text": [
      "/home/kamilla/Protein_de_novo/structures/3CHM.pdb\n"
     ]
    },
    {
     "name": "stderr",
     "output_type": "stream",
     "text": [
      "2020-10-09 15:49:48,180 - moleculekit.molecule - WARNING - Alternative atom locations detected. Only altloc A was kept. If you prefer to keep all use the keepaltloc=\"all\" option when reading the file.\n",
      "2020-10-09 15:49:48,181 - moleculekit.molecule - INFO - Removed 41 atoms. 2372 atoms remaining in the molecule.\n",
      "2020-10-09 15:49:48,211 - moleculekit.molecule - INFO - Removed 246 atoms. 2126 atoms remaining in the molecule.\n"
     ]
    },
    {
     "name": "stdout",
     "output_type": "stream",
     "text": [
      "/home/kamilla/Protein_de_novo/structures/3D14.pdb\n"
     ]
    },
    {
     "name": "stderr",
     "output_type": "stream",
     "text": [
      "2020-10-09 15:49:56,700 - moleculekit.molecule - INFO - Removed 92 atoms. 2000 atoms remaining in the molecule.\n"
     ]
    },
    {
     "name": "stdout",
     "output_type": "stream",
     "text": [
      "/home/kamilla/Protein_de_novo/structures/3D2K.pdb\n"
     ]
    },
    {
     "name": "stderr",
     "output_type": "stream",
     "text": [
      "2020-10-09 15:50:04,340 - moleculekit.molecule - WARNING - Alternative atom locations detected. Only altloc A was kept. If you prefer to keep all use the keepaltloc=\"all\" option when reading the file.\n",
      "2020-10-09 15:50:04,341 - moleculekit.molecule - INFO - Removed 14 atoms. 1924 atoms remaining in the molecule.\n",
      "2020-10-09 15:50:04,374 - moleculekit.molecule - INFO - Removed 237 atoms. 1687 atoms remaining in the molecule.\n"
     ]
    },
    {
     "name": "stdout",
     "output_type": "stream",
     "text": [
      "/home/kamilla/Protein_de_novo/structures/3CJJ.pdb\n"
     ]
    },
    {
     "name": "stderr",
     "output_type": "stream",
     "text": [
      "2020-10-09 15:50:10,782 - moleculekit.molecule - INFO - Removed 104 atoms. 2243 atoms remaining in the molecule.\n"
     ]
    },
    {
     "name": "stdout",
     "output_type": "stream",
     "text": [
      "/home/kamilla/Protein_de_novo/structures/3D1V.pdb\n"
     ]
    },
    {
     "name": "stderr",
     "output_type": "stream",
     "text": [
      "2020-10-09 15:50:20,527 - moleculekit.molecule - WARNING - Alternative atom locations detected. Only altloc A was kept. If you prefer to keep all use the keepaltloc=\"all\" option when reading the file.\n",
      "2020-10-09 15:50:20,528 - moleculekit.molecule - INFO - Removed 7 atoms. 1660 atoms remaining in the molecule.\n",
      "2020-10-09 15:50:20,551 - moleculekit.molecule - INFO - Removed 186 atoms. 1474 atoms remaining in the molecule.\n"
     ]
    },
    {
     "name": "stdout",
     "output_type": "stream",
     "text": [
      "/home/kamilla/Protein_de_novo/structures/3CI4.pdb\n"
     ]
    },
    {
     "name": "stderr",
     "output_type": "stream",
     "text": [
      "2020-10-09 15:50:25,090 - moleculekit.molecule - WARNING - Alternative atom locations detected. Only altloc A was kept. If you prefer to keep all use the keepaltloc=\"all\" option when reading the file.\n",
      "2020-10-09 15:50:25,093 - moleculekit.molecule - INFO - Removed 56 atoms. 1465 atoms remaining in the molecule.\n",
      "2020-10-09 15:50:25,113 - moleculekit.molecule - INFO - Removed 169 atoms. 1296 atoms remaining in the molecule.\n"
     ]
    },
    {
     "name": "stdout",
     "output_type": "stream",
     "text": [
      "/home/kamilla/Protein_de_novo/structures/3CT5.pdb\n"
     ]
    },
    {
     "name": "stderr",
     "output_type": "stream",
     "text": [
      "2020-10-09 15:50:28,288 - moleculekit.molecule - WARNING - Alternative atom locations detected. Only altloc A was kept. If you prefer to keep all use the keepaltloc=\"all\" option when reading the file.\n",
      "2020-10-09 15:50:28,289 - moleculekit.molecule - INFO - Removed 6 atoms. 1994 atoms remaining in the molecule.\n",
      "2020-10-09 15:50:28,313 - moleculekit.molecule - INFO - Removed 270 atoms. 1724 atoms remaining in the molecule.\n"
     ]
    },
    {
     "name": "stdout",
     "output_type": "stream",
     "text": [
      "/home/kamilla/Protein_de_novo/structures/3CKG.pdb\n"
     ]
    },
    {
     "name": "stderr",
     "output_type": "stream",
     "text": [
      "2020-10-09 15:50:34,867 - moleculekit.molecule - WARNING - Alternative atom locations detected. Only altloc A was kept. If you prefer to keep all use the keepaltloc=\"all\" option when reading the file.\n",
      "2020-10-09 15:50:34,869 - moleculekit.molecule - INFO - Removed 89 atoms. 2001 atoms remaining in the molecule.\n",
      "2020-10-09 15:50:34,897 - moleculekit.molecule - INFO - Removed 238 atoms. 1763 atoms remaining in the molecule.\n"
     ]
    },
    {
     "name": "stdout",
     "output_type": "stream",
     "text": [
      "/home/kamilla/Protein_de_novo/structures/3F9O.pdb\n"
     ]
    },
    {
     "name": "stderr",
     "output_type": "stream",
     "text": [
      "2020-10-09 15:50:40,741 - moleculekit.molecule - WARNING - Alternative atom locations detected. Only altloc A was kept. If you prefer to keep all use the keepaltloc=\"all\" option when reading the file.\n",
      "2020-10-09 15:50:40,743 - moleculekit.molecule - INFO - Removed 20 atoms. 1656 atoms remaining in the molecule.\n",
      "2020-10-09 15:50:40,765 - moleculekit.molecule - INFO - Removed 143 atoms. 1513 atoms remaining in the molecule.\n"
     ]
    },
    {
     "name": "stdout",
     "output_type": "stream",
     "text": [
      "/home/kamilla/Protein_de_novo/structures/3D84.pdb\n"
     ]
    },
    {
     "name": "stderr",
     "output_type": "stream",
     "text": [
      "2020-10-09 15:50:44,921 - moleculekit.molecule - WARNING - Alternative atom locations detected. Only altloc A was kept. If you prefer to keep all use the keepaltloc=\"all\" option when reading the file.\n",
      "2020-10-09 15:50:44,922 - moleculekit.molecule - INFO - Removed 45 atoms. 1634 atoms remaining in the molecule.\n",
      "2020-10-09 15:50:44,944 - moleculekit.molecule - INFO - Removed 313 atoms. 1321 atoms remaining in the molecule.\n"
     ]
    },
    {
     "name": "stdout",
     "output_type": "stream",
     "text": [
      "/home/kamilla/Protein_de_novo/structures/3CM3.pdb\n"
     ]
    },
    {
     "name": "stderr",
     "output_type": "stream",
     "text": [
      "2020-10-09 15:50:48,154 - moleculekit.molecule - INFO - Removed 257 atoms. 2201 atoms remaining in the molecule.\n"
     ]
    },
    {
     "name": "stdout",
     "output_type": "stream",
     "text": [
      "/home/kamilla/Protein_de_novo/structures/3EZR.pdb\n"
     ]
    },
    {
     "name": "stderr",
     "output_type": "stream",
     "text": [
      "2020-10-09 15:50:56,626 - moleculekit.molecule - WARNING - Alternative atom locations detected. Only altloc A was kept. If you prefer to keep all use the keepaltloc=\"all\" option when reading the file.\n",
      "2020-10-09 15:50:56,628 - moleculekit.molecule - INFO - Removed 129 atoms. 2323 atoms remaining in the molecule.\n",
      "2020-10-09 15:50:56,630 - moleculekit.molecule - INFO - Removed 17 atoms. 2306 atoms remaining in the molecule.\n",
      "2020-10-09 15:50:56,652 - moleculekit.molecule - INFO - Removed 422 atoms. 1884 atoms remaining in the molecule.\n"
     ]
    },
    {
     "name": "stdout",
     "output_type": "stream",
     "text": [
      "/home/kamilla/Protein_de_novo/structures/3D3Z.pdb\n"
     ]
    },
    {
     "name": "stderr",
     "output_type": "stream",
     "text": [
      "2020-10-09 15:51:03,250 - moleculekit.molecule - WARNING - Alternative atom locations detected. Only altloc A was kept. If you prefer to keep all use the keepaltloc=\"all\" option when reading the file.\n",
      "2020-10-09 15:51:03,252 - moleculekit.molecule - INFO - Removed 48 atoms. 2066 atoms remaining in the molecule.\n",
      "2020-10-09 15:51:03,276 - moleculekit.molecule - INFO - Removed 434 atoms. 1632 atoms remaining in the molecule.\n"
     ]
    },
    {
     "name": "stdout",
     "output_type": "stream",
     "text": [
      "/home/kamilla/Protein_de_novo/structures/3CKF.pdb\n"
     ]
    },
    {
     "name": "stderr",
     "output_type": "stream",
     "text": [
      "2020-10-09 15:51:09,427 - moleculekit.molecule - WARNING - Alternative atom locations detected. Only altloc A was kept. If you prefer to keep all use the keepaltloc=\"all\" option when reading the file.\n",
      "2020-10-09 15:51:09,428 - moleculekit.molecule - INFO - Removed 31 atoms. 1740 atoms remaining in the molecule.\n",
      "2020-10-09 15:51:09,450 - moleculekit.molecule - INFO - Removed 200 atoms. 1540 atoms remaining in the molecule.\n"
     ]
    },
    {
     "name": "stdout",
     "output_type": "stream",
     "text": [
      "/home/kamilla/Protein_de_novo/structures/3CQV.pdb\n"
     ]
    },
    {
     "name": "stderr",
     "output_type": "stream",
     "text": [
      "2020-10-09 15:51:13,912 - moleculekit.molecule - INFO - Removed 88 atoms. 1445 atoms remaining in the molecule.\n"
     ]
    },
    {
     "name": "stdout",
     "output_type": "stream",
     "text": [
      "/home/kamilla/Protein_de_novo/structures/3CM0.pdb\n"
     ]
    },
    {
     "name": "stderr",
     "output_type": "stream",
     "text": [
      "2020-10-09 15:51:18,537 - moleculekit.molecule - WARNING - Alternative atom locations detected. Only altloc A was kept. If you prefer to keep all use the keepaltloc=\"all\" option when reading the file.\n",
      "2020-10-09 15:51:18,539 - moleculekit.molecule - INFO - Removed 116 atoms. 1571 atoms remaining in the molecule.\n",
      "2020-10-09 15:51:18,564 - moleculekit.molecule - INFO - Removed 185 atoms. 1386 atoms remaining in the molecule.\n"
     ]
    },
    {
     "name": "stdout",
     "output_type": "stream",
     "text": [
      "/home/kamilla/Protein_de_novo/structures/3D06.pdb\n"
     ]
    },
    {
     "name": "stderr",
     "output_type": "stream",
     "text": [
      "2020-10-09 15:51:22,525 - moleculekit.molecule - WARNING - Alternative atom locations detected. Only altloc A was kept. If you prefer to keep all use the keepaltloc=\"all\" option when reading the file.\n",
      "2020-10-09 15:51:22,527 - moleculekit.molecule - INFO - Removed 46 atoms. 2147 atoms remaining in the molecule.\n",
      "2020-10-09 15:51:22,547 - moleculekit.molecule - INFO - Removed 240 atoms. 1907 atoms remaining in the molecule.\n"
     ]
    },
    {
     "name": "stdout",
     "output_type": "stream",
     "text": [
      "/home/kamilla/Protein_de_novo/structures/3D40.pdb\n"
     ]
    },
    {
     "name": "stderr",
     "output_type": "stream",
     "text": [
      "2020-10-09 15:51:29,560 - moleculekit.molecule - WARNING - Alternative atom locations detected. Only altloc A was kept. If you prefer to keep all use the keepaltloc=\"all\" option when reading the file.\n",
      "2020-10-09 15:51:29,561 - moleculekit.molecule - INFO - Removed 62 atoms. 1665 atoms remaining in the molecule.\n",
      "2020-10-09 15:51:29,579 - moleculekit.molecule - INFO - Removed 288 atoms. 1377 atoms remaining in the molecule.\n"
     ]
    },
    {
     "name": "stdout",
     "output_type": "stream",
     "text": [
      "/home/kamilla/Protein_de_novo/structures/3EZG.pdb\n"
     ]
    },
    {
     "name": "stderr",
     "output_type": "stream",
     "text": [
      "2020-10-09 15:51:33,400 - moleculekit.molecule - INFO - Removed 86 atoms. 1642 atoms remaining in the molecule.\n"
     ]
    },
    {
     "name": "stdout",
     "output_type": "stream",
     "text": [
      "/home/kamilla/Protein_de_novo/structures/3CW4.pdb\n"
     ]
    },
    {
     "name": "stderr",
     "output_type": "stream",
     "text": [
      "2020-10-09 15:51:38,632 - moleculekit.molecule - WARNING - Alternative atom locations detected. Only altloc A was kept. If you prefer to keep all use the keepaltloc=\"all\" option when reading the file.\n",
      "2020-10-09 15:51:38,634 - moleculekit.molecule - INFO - Removed 54 atoms. 2187 atoms remaining in the molecule.\n",
      "2020-10-09 15:51:38,665 - moleculekit.molecule - INFO - Removed 75 atoms. 2112 atoms remaining in the molecule.\n"
     ]
    },
    {
     "name": "stdout",
     "output_type": "stream",
     "text": [
      "/home/kamilla/Protein_de_novo/structures/3CS3.pdb\n"
     ]
    },
    {
     "name": "stderr",
     "output_type": "stream",
     "text": [
      "2020-10-09 15:51:47,850 - moleculekit.molecule - WARNING - Alternative atom locations detected. Only altloc A was kept. If you prefer to keep all use the keepaltloc=\"all\" option when reading the file.\n",
      "2020-10-09 15:51:47,852 - moleculekit.molecule - INFO - Removed 22 atoms. 1155 atoms remaining in the molecule.\n",
      "2020-10-09 15:51:47,865 - moleculekit.molecule - INFO - Removed 56 atoms. 1099 atoms remaining in the molecule.\n"
     ]
    },
    {
     "name": "stdout",
     "output_type": "stream",
     "text": [
      "/home/kamilla/Protein_de_novo/structures/3D89.pdb\n"
     ]
    },
    {
     "name": "stderr",
     "output_type": "stream",
     "text": [
      "2020-10-09 15:51:50,138 - moleculekit.molecule - INFO - Removed 52 atoms. 1424 atoms remaining in the molecule.\n"
     ]
    },
    {
     "name": "stdout",
     "output_type": "stream",
     "text": [
      "/home/kamilla/Protein_de_novo/structures/3CTA.pdb\n"
     ]
    },
    {
     "name": "stderr",
     "output_type": "stream",
     "text": [
      "2020-10-09 15:51:54,235 - moleculekit.molecule - WARNING - Alternative atom locations detected. Only altloc A was kept. If you prefer to keep all use the keepaltloc=\"all\" option when reading the file.\n",
      "2020-10-09 15:51:54,239 - moleculekit.molecule - INFO - Removed 15 atoms. 1325 atoms remaining in the molecule.\n",
      "2020-10-09 15:51:54,253 - moleculekit.molecule - INFO - Removed 124 atoms. 1201 atoms remaining in the molecule.\n"
     ]
    },
    {
     "name": "stdout",
     "output_type": "stream",
     "text": [
      "/home/kamilla/Protein_de_novo/structures/3CON.pdb\n"
     ]
    },
    {
     "name": "stderr",
     "output_type": "stream",
     "text": [
      "2020-10-09 15:51:57,033 - moleculekit.molecule - INFO - Removed 27 atoms. 1187 atoms remaining in the molecule.\n"
     ]
    },
    {
     "name": "stdout",
     "output_type": "stream",
     "text": [
      "/home/kamilla/Protein_de_novo/structures/3D7N.pdb\n"
     ]
    },
    {
     "name": "stderr",
     "output_type": "stream",
     "text": [
      "2020-10-09 15:52:00,008 - moleculekit.molecule - WARNING - Alternative atom locations detected. Only altloc A was kept. If you prefer to keep all use the keepaltloc=\"all\" option when reading the file.\n",
      "2020-10-09 15:52:00,010 - moleculekit.molecule - INFO - Removed 14 atoms. 1518 atoms remaining in the molecule.\n",
      "2020-10-09 15:52:00,026 - moleculekit.molecule - INFO - Removed 134 atoms. 1384 atoms remaining in the molecule.\n"
     ]
    },
    {
     "name": "stdout",
     "output_type": "stream",
     "text": [
      "/home/kamilla/Protein_de_novo/structures/3CLV.pdb\n"
     ]
    },
    {
     "name": "stderr",
     "output_type": "stream",
     "text": [
      "2020-10-09 15:52:03,646 - moleculekit.molecule - WARNING - Alternative atom locations detected. Only altloc A was kept. If you prefer to keep all use the keepaltloc=\"all\" option when reading the file.\n",
      "2020-10-09 15:52:03,647 - moleculekit.molecule - INFO - Removed 112 atoms. 2086 atoms remaining in the molecule.\n",
      "2020-10-09 15:52:03,649 - moleculekit.molecule - INFO - Removed 6 atoms. 2080 atoms remaining in the molecule.\n",
      "2020-10-09 15:52:03,670 - moleculekit.molecule - INFO - Removed 308 atoms. 1772 atoms remaining in the molecule.\n"
     ]
    },
    {
     "name": "stdout",
     "output_type": "stream",
     "text": [
      "/home/kamilla/Protein_de_novo/structures/3FAI.pdb\n"
     ]
    },
    {
     "name": "stderr",
     "output_type": "stream",
     "text": [
      "2020-10-09 15:52:09,588 - moleculekit.molecule - WARNING - Alternative atom locations detected. Only altloc A was kept. If you prefer to keep all use the keepaltloc=\"all\" option when reading the file.\n",
      "2020-10-09 15:52:09,590 - moleculekit.molecule - INFO - Removed 81 atoms. 1608 atoms remaining in the molecule.\n",
      "2020-10-09 15:52:09,607 - moleculekit.molecule - INFO - Removed 170 atoms. 1438 atoms remaining in the molecule.\n"
     ]
    },
    {
     "name": "stdout",
     "output_type": "stream",
     "text": [
      "/home/kamilla/Protein_de_novo/structures/3D09.pdb\n"
     ]
    },
    {
     "name": "stderr",
     "output_type": "stream",
     "text": [
      "2020-10-09 15:52:13,796 - moleculekit.molecule - INFO - Removed 186 atoms. 1578 atoms remaining in the molecule.\n"
     ]
    },
    {
     "name": "stdout",
     "output_type": "stream",
     "text": [
      "/home/kamilla/Protein_de_novo/structures/3EZX.pdb\n"
     ]
    },
    {
     "name": "stderr",
     "output_type": "stream",
     "text": [
      "2020-10-09 15:52:18,941 - moleculekit.molecule - WARNING - Alternative atom locations detected. Only altloc A was kept. If you prefer to keep all use the keepaltloc=\"all\" option when reading the file.\n",
      "2020-10-09 15:52:18,943 - moleculekit.molecule - INFO - Removed 100 atoms. 1429 atoms remaining in the molecule.\n",
      "2020-10-09 15:52:18,944 - moleculekit.molecule - INFO - Removed 6 atoms. 1423 atoms remaining in the molecule.\n",
      "2020-10-09 15:52:18,960 - moleculekit.molecule - INFO - Removed 173 atoms. 1250 atoms remaining in the molecule.\n"
     ]
    },
    {
     "name": "stdout",
     "output_type": "stream",
     "text": [
      "/home/kamilla/Protein_de_novo/structures/3D4E.pdb\n"
     ]
    },
    {
     "name": "stderr",
     "output_type": "stream",
     "text": [
      "2020-10-09 15:52:22,092 - moleculekit.molecule - WARNING - Alternative atom locations detected. Only altloc A was kept. If you prefer to keep all use the keepaltloc=\"all\" option when reading the file.\n",
      "2020-10-09 15:52:22,094 - moleculekit.molecule - INFO - Removed 5 atoms. 1448 atoms remaining in the molecule.\n",
      "2020-10-09 15:52:22,109 - moleculekit.molecule - INFO - Removed 152 atoms. 1296 atoms remaining in the molecule.\n"
     ]
    },
    {
     "name": "stdout",
     "output_type": "stream",
     "text": [
      "/home/kamilla/Protein_de_novo/structures/3CSZ.pdb\n"
     ]
    },
    {
     "name": "stderr",
     "output_type": "stream",
     "text": [
      "2020-10-09 15:52:25,258 - moleculekit.molecule - WARNING - Alternative atom locations detected. Only altloc A was kept. If you prefer to keep all use the keepaltloc=\"all\" option when reading the file.\n",
      "2020-10-09 15:52:25,261 - moleculekit.molecule - INFO - Removed 1 atoms. 1458 atoms remaining in the molecule.\n",
      "2020-10-09 15:52:25,282 - moleculekit.molecule - INFO - Removed 162 atoms. 1296 atoms remaining in the molecule.\n"
     ]
    },
    {
     "name": "stdout",
     "output_type": "stream",
     "text": [
      "/home/kamilla/Protein_de_novo/structures/3CT0.pdb\n"
     ]
    },
    {
     "name": "stderr",
     "output_type": "stream",
     "text": [
      "2020-10-09 15:52:28,466 - moleculekit.molecule - INFO - Removed 11 atoms. 1136 atoms remaining in the molecule.\n"
     ]
    },
    {
     "name": "stdout",
     "output_type": "stream",
     "text": [
      "/home/kamilla/Protein_de_novo/structures/3CVA.pdb\n"
     ]
    },
    {
     "name": "stderr",
     "output_type": "stream",
     "text": [
      "2020-10-09 15:52:31,684 - moleculekit.molecule - WARNING - Alternative atom locations detected. Only altloc A was kept. If you prefer to keep all use the keepaltloc=\"all\" option when reading the file.\n",
      "2020-10-09 15:52:31,687 - moleculekit.molecule - INFO - Removed 40 atoms. 894 atoms remaining in the molecule.\n",
      "2020-10-09 15:52:31,710 - moleculekit.molecule - INFO - Removed 119 atoms. 775 atoms remaining in the molecule.\n"
     ]
    },
    {
     "name": "stdout",
     "output_type": "stream",
     "text": [
      "/home/kamilla/Protein_de_novo/structures/3FAJ.pdb\n"
     ]
    },
    {
     "name": "stderr",
     "output_type": "stream",
     "text": [
      "2020-10-09 15:52:33,915 - moleculekit.molecule - WARNING - Alternative atom locations detected. Only altloc A was kept. If you prefer to keep all use the keepaltloc=\"all\" option when reading the file.\n",
      "2020-10-09 15:52:33,917 - moleculekit.molecule - INFO - Removed 98 atoms. 1643 atoms remaining in the molecule.\n",
      "2020-10-09 15:52:33,944 - moleculekit.molecule - INFO - Removed 229 atoms. 1414 atoms remaining in the molecule.\n"
     ]
    },
    {
     "name": "stdout",
     "output_type": "stream",
     "text": [
      "/home/kamilla/Protein_de_novo/structures/3D08.pdb\n"
     ]
    },
    {
     "name": "stderr",
     "output_type": "stream",
     "text": [
      "2020-10-09 15:52:38,239 - moleculekit.molecule - INFO - Removed 35 atoms. 994 atoms remaining in the molecule.\n"
     ]
    },
    {
     "name": "stdout",
     "output_type": "stream",
     "text": [
      "/home/kamilla/Protein_de_novo/structures/3D6T.pdb\n"
     ]
    },
    {
     "name": "stderr",
     "output_type": "stream",
     "text": [
      "2020-10-09 15:52:41,385 - moleculekit.molecule - INFO - Removed 143 atoms. 1357 atoms remaining in the molecule.\n"
     ]
    },
    {
     "name": "stdout",
     "output_type": "stream",
     "text": [
      "/home/kamilla/Protein_de_novo/structures/3D2A.pdb\n"
     ]
    },
    {
     "name": "stderr",
     "output_type": "stream",
     "text": [
      "2020-10-09 15:52:45,097 - moleculekit.molecule - WARNING - Alternative atom locations detected. Only altloc A was kept. If you prefer to keep all use the keepaltloc=\"all\" option when reading the file.\n",
      "2020-10-09 15:52:45,099 - moleculekit.molecule - INFO - Removed 80 atoms. 1762 atoms remaining in the molecule.\n",
      "2020-10-09 15:52:45,102 - moleculekit.molecule - INFO - Removed 5 atoms. 1757 atoms remaining in the molecule.\n",
      "2020-10-09 15:52:45,123 - moleculekit.molecule - INFO - Removed 269 atoms. 1488 atoms remaining in the molecule.\n"
     ]
    },
    {
     "name": "stdout",
     "output_type": "stream",
     "text": [
      "/home/kamilla/Protein_de_novo/structures/3CI3.pdb\n"
     ]
    },
    {
     "name": "stderr",
     "output_type": "stream",
     "text": [
      "2020-10-09 15:52:51,029 - moleculekit.molecule - WARNING - Alternative atom locations detected. Only altloc A was kept. If you prefer to keep all use the keepaltloc=\"all\" option when reading the file.\n",
      "2020-10-09 15:52:51,031 - moleculekit.molecule - INFO - Removed 11 atoms. 2574 atoms remaining in the molecule.\n",
      "2020-10-09 15:52:51,075 - moleculekit.molecule - INFO - Removed 288 atoms. 2286 atoms remaining in the molecule.\n"
     ]
    },
    {
     "name": "stdout",
     "output_type": "stream",
     "text": [
      "/home/kamilla/Protein_de_novo/structures/3EYG.pdb\n"
     ]
    },
    {
     "name": "stderr",
     "output_type": "stream",
     "text": [
      "2020-10-09 15:53:03,098 - moleculekit.molecule - INFO - Removed 83 atoms. 1579 atoms remaining in the molecule.\n"
     ]
    },
    {
     "name": "stdout",
     "output_type": "stream",
     "text": [
      "/home/kamilla/Protein_de_novo/structures/3EXT.pdb\n"
     ]
    },
    {
     "name": "stderr",
     "output_type": "stream",
     "text": [
      "2020-10-09 15:53:08,076 - moleculekit.molecule - INFO - Removed 191 atoms. 2018 atoms remaining in the molecule.\n"
     ]
    },
    {
     "name": "stdout",
     "output_type": "stream",
     "text": [
      "/home/kamilla/Protein_de_novo/structures/3CS4.pdb\n"
     ]
    },
    {
     "name": "stderr",
     "output_type": "stream",
     "text": [
      "2020-10-09 15:53:15,563 - moleculekit.molecule - INFO - Removed 110 atoms. 1760 atoms remaining in the molecule.\n"
     ]
    },
    {
     "name": "stdout",
     "output_type": "stream",
     "text": [
      "/home/kamilla/Protein_de_novo/structures/3CRU.pdb\n"
     ]
    },
    {
     "name": "stderr",
     "output_type": "stream",
     "text": [
      "2020-10-09 15:53:21,077 - moleculekit.molecule - INFO - Removed 73 atoms. 1813 atoms remaining in the molecule.\n"
     ]
    },
    {
     "name": "stdout",
     "output_type": "stream",
     "text": [
      "/home/kamilla/Protein_de_novo/structures/3CLL.pdb\n"
     ]
    },
    {
     "name": "stderr",
     "output_type": "stream",
     "text": [
      "2020-10-09 15:53:27,576 - moleculekit.molecule - WARNING - Alternative atom locations detected. Only altloc A was kept. If you prefer to keep all use the keepaltloc=\"all\" option when reading the file.\n",
      "2020-10-09 15:53:27,578 - moleculekit.molecule - INFO - Removed 13 atoms. 1125 atoms remaining in the molecule.\n",
      "2020-10-09 15:53:27,592 - moleculekit.molecule - INFO - Removed 33 atoms. 1092 atoms remaining in the molecule.\n"
     ]
    },
    {
     "name": "stdout",
     "output_type": "stream",
     "text": [
      "/home/kamilla/Protein_de_novo/structures/3CNI.pdb\n"
     ]
    },
    {
     "name": "stderr",
     "output_type": "stream",
     "text": [
      "2020-10-09 15:53:30,124 - moleculekit.molecule - INFO - Removed 309 atoms. 2108 atoms remaining in the molecule.\n"
     ]
    },
    {
     "name": "stdout",
     "output_type": "stream",
     "text": [
      "/home/kamilla/Protein_de_novo/structures/3D5H.pdb\n"
     ]
    },
    {
     "name": "stderr",
     "output_type": "stream",
     "text": [
      "2020-10-09 15:53:38,484 - moleculekit.molecule - INFO - Removed 126 atoms. 1763 atoms remaining in the molecule.\n"
     ]
    },
    {
     "name": "stdout",
     "output_type": "stream",
     "text": [
      "/home/kamilla/Protein_de_novo/structures/3D0Z.pdb\n"
     ]
    },
    {
     "name": "stderr",
     "output_type": "stream",
     "text": [
      "2020-10-09 15:53:43,931 - moleculekit.molecule - INFO - Removed 159 atoms. 1873 atoms remaining in the molecule.\n"
     ]
    },
    {
     "name": "stdout",
     "output_type": "stream",
     "text": [
      "/home/kamilla/Protein_de_novo/structures/3CNL.pdb\n"
     ]
    },
    {
     "name": "stderr",
     "output_type": "stream",
     "text": [
      "2020-10-09 15:53:50,350 - moleculekit.molecule - WARNING - Alternative atom locations detected. Only altloc A was kept. If you prefer to keep all use the keepaltloc=\"all\" option when reading the file.\n",
      "2020-10-09 15:53:50,351 - moleculekit.molecule - INFO - Removed 1 atoms. 1635 atoms remaining in the molecule.\n"
     ]
    },
    {
     "name": "stdout",
     "output_type": "stream",
     "text": [
      "/home/kamilla/Protein_de_novo/structures/3CJW.pdb\n"
     ]
    },
    {
     "name": "stderr",
     "output_type": "stream",
     "text": [
      "2020-10-09 15:53:55,451 - moleculekit.molecule - WARNING - Alternative atom locations detected. Only altloc A was kept. If you prefer to keep all use the keepaltloc=\"all\" option when reading the file.\n",
      "2020-10-09 15:53:55,453 - moleculekit.molecule - INFO - Removed 70 atoms. 1621 atoms remaining in the molecule.\n",
      "2020-10-09 15:53:55,473 - moleculekit.molecule - INFO - Removed 65 atoms. 1556 atoms remaining in the molecule.\n"
     ]
    },
    {
     "name": "stdout",
     "output_type": "stream",
     "text": [
      "/home/kamilla/Protein_de_novo/structures/3CS1.pdb\n",
      "0:08:59.688677\n"
     ]
    }
   ],
   "source": [
    "\n",
    "pdb_structures = {}\n",
    "\n",
    "\n",
    "import time\n",
    "from datetime import timedelta\n",
    "\n",
    "start_time = time.monotonic()\n",
    "\n",
    "for fn in Path(current_directiry).glob(\"*.pdb\"):\n",
    "    print(fn)\n",
    "    structure_name = str(fn).split(\"/\")[-1]\n",
    "    #print(structure_name)\n",
    "    mol = Molecule(structure_name, validateElements=False)  #, keepaltloc='all'\n",
    "    \n",
    "    #print(np.sum(mol.atomselect('water and name O')))\n",
    "    \n",
    "    #remove extra atoms\n",
    "    mol.filter('protein')\n",
    " \n",
    "    #print(mol)\n",
    "    #print(np.sum(mol.atomselect('water and name O')))\n",
    "    \n",
    "    #all aminoacids to GLY\n",
    "    res_ids = np.unique(mol.resid)\n",
    "    for i in res_ids:\n",
    "        if(i>=0):\n",
    "            mol.mutateResidue('resid ' + str(i), 'GLY')\n",
    "    #mol.mutateResidue(mol.atomselect('protein'), 'GLY')\n",
    "    \n",
    "    #remove extra atoms\n",
    "    #mol.remove(mol.atomselect('water and name O'))\n",
    "    \n",
    "    #print(np.unique(mol.get('chain')))\n",
    " \n",
    "    \n",
    "    #move zero to center \n",
    "    coo = mol.get('coords')\n",
    "    c = np.mean(coo, axis=0)\n",
    "    mol.moveBy(-c)\n",
    "    \n",
    "    mol.write(fn)\n",
    " \n",
    "\n",
    "end_time = time.monotonic()\n",
    "print(timedelta(seconds=end_time - start_time))"
   ]
  },
  {
   "cell_type": "code",
   "execution_count": null,
   "metadata": {},
   "outputs": [],
   "source": []
  },
  {
   "cell_type": "code",
   "execution_count": null,
   "metadata": {},
   "outputs": [],
   "source": [
    "\n"
   ]
  },
  {
   "cell_type": "code",
   "execution_count": null,
   "metadata": {},
   "outputs": [],
   "source": []
  },
  {
   "cell_type": "code",
   "execution_count": null,
   "metadata": {},
   "outputs": [],
   "source": [
    "\n"
   ]
  },
  {
   "cell_type": "code",
   "execution_count": null,
   "metadata": {},
   "outputs": [],
   "source": [
    "\n",
    "\n"
   ]
  },
  {
   "cell_type": "code",
   "execution_count": null,
   "metadata": {},
   "outputs": [],
   "source": [
    "\n"
   ]
  }
 ],
 "metadata": {
  "kernelspec": {
   "display_name": "Python 3",
   "language": "python",
   "name": "python3"
  },
  "language_info": {
   "codemirror_mode": {
    "name": "ipython",
    "version": 3
   },
   "file_extension": ".py",
   "mimetype": "text/x-python",
   "name": "python",
   "nbconvert_exporter": "python",
   "pygments_lexer": "ipython3",
   "version": "3.7.9"
  }
 },
 "nbformat": 4,
 "nbformat_minor": 4
}
